{
 "cells": [
  {
   "cell_type": "code",
   "execution_count": 1,
   "metadata": {},
   "outputs": [],
   "source": [
    "import numpy as np\n",
    "import sys\n",
    "sys.path.append('..')\n",
    "sys.path.append('../..')\n",
    "import matplotlib.pyplot as plt\n",
    "%load_ext autoreload\n",
    "%autoreload 2\n",
    "import estimator as est\n",
    "rng = np.random.default_rng(seed=315)\n",
    "import skewer_computations as skc\n",
    "from forestflow.model_p3d_arinyo import ArinyoModel\n",
    "from forestflow.archive import GadgetArchive3D\n",
    "from lace.cosmo import camb_cosmo\n",
    "from scipy.interpolate import interp1d\n",
    "import forestflow\n",
    "import mask_calculations as mc\n",
    "import astropy.units as u\n",
    "from astropy.cosmology import z_at_value\n",
    "from astropy.cosmology import Planck18 as P18\n",
    "import os"
   ]
  },
  {
   "cell_type": "code",
   "execution_count": 2,
   "metadata": {},
   "outputs": [],
   "source": [
    "def retrieve_masked_p1d(maskname, snapnum):\n",
    "    p1ds_masked = []\n",
    "    c=0\n",
    "    for phase in ['plus','minus']:\n",
    "        for ax in range(1,4):\n",
    "            f = np.load(mask_path+f\"skewers_{snapnum}_psim_{phase}_ax{ax}{maskname}_mask_p1d.npz\")\n",
    "            p1ds_masked.append(f['p1d_masked'])\n",
    "            if c==0:\n",
    "                kpar = f['kpar']\n",
    "                L    = f['L_Mpc']\n",
    "                Np   = f['Np']\n",
    "            c+=1\n",
    "    p1ds_masked = np.asarray(p1ds_masked)\n",
    "    p1ds_masked_avg = np.average(p1ds_masked, axis=0)\n",
    "    return kpar, L, Np, p1ds_masked_avg"
   ]
  },
  {
   "cell_type": "markdown",
   "metadata": {},
   "source": [
    "Load the data"
   ]
  },
  {
   "cell_type": "code",
   "execution_count": 3,
   "metadata": {},
   "outputs": [],
   "source": [
    "# set sim_name\n",
    "sim_name='sim_pair_30' # other version will be 'diffSeed'\n",
    "sim_dir='central'\n",
    "snap_num = 6\n",
    "pix_spacing = 0.05\n"
   ]
  },
  {
   "cell_type": "code",
   "execution_count": 6,
   "metadata": {},
   "outputs": [],
   "source": [
    "path_program = os.path.dirname(forestflow.__path__[0]) + '/'\n",
    "folder_lya_data = path_program + \"/data/best_arinyo/\"\n",
    "Archive3D = GadgetArchive3D(\n",
    "    base_folder=path_program[:-1],\n",
    "    folder_data=folder_lya_data,\n",
    "    force_recompute_plin=False,\n",
    "    average=\"both\",\n",
    ")"
   ]
  },
  {
   "cell_type": "code",
   "execution_count": 7,
   "metadata": {},
   "outputs": [],
   "source": [
    "# load the unmasked p1d measurement\n",
    "sim = Archive3D.get_testing_data('mpg_central', force_recompute_plin=False)\n",
    "sim_z = [d for d in sim if d[\"z\"] == 3][0]"
   ]
  },
  {
   "cell_type": "code",
   "execution_count": 8,
   "metadata": {},
   "outputs": [],
   "source": [
    "p1d_unmasked = sim_z['p1d_Mpc']"
   ]
  },
  {
   "cell_type": "code",
   "execution_count": 9,
   "metadata": {},
   "outputs": [
    {
     "data": {
      "text/plain": [
       "676"
      ]
     },
     "execution_count": 9,
     "metadata": {},
     "output_type": "execute_result"
    }
   ],
   "source": [
    "len(sim_z['k_Mpc'])"
   ]
  },
  {
   "cell_type": "code",
   "execution_count": 19,
   "metadata": {},
   "outputs": [],
   "source": [
    "# load the masked P1D measurements\n",
    "mask_path = \"/data/desi/scratch/mlokken/masking/\"\n",
    "\n",
    "# mode = 'all'\n",
    "# mode = '2skyline'\n",
    "mode = 'skyline'\n",
    "if mode=='all':\n",
    "    kpar, L, Np, p1d_2skyline = retrieve_masked_p1d('double_skyline', 6)\n",
    "    kpar, L, Np, p1d_dla = retrieve_masked_p1d('dla', 6)\n",
    "    kpar, L, Np, p1d_randmasked = retrieve_masked_p1d('random', 6)\n",
    "    kpar, L, Np, p1d_skyline = retrieve_masked_p1d('skyline', 6)\n",
    "\n",
    "if mode=='2skyline':\n",
    "    kpar, L, Np, p1d_2skyline = retrieve_masked_p1d('double_skyline', 6)\n",
    "elif mode=='skyline':\n",
    "    kpar, L, Np, p1d_skyline = retrieve_masked_p1d('skyline', 6)\n",
    "elif mode=='random':\n",
    "    kpar, L, Np, p1d_randmasked = retrieve_masked_p1d('random', 6)\n",
    "elif mode=='dla':\n",
    "    kpar, L, Np, p1d_dla = retrieve_masked_p1d('dla', 6)"
   ]
  },
  {
   "cell_type": "code",
   "execution_count": 20,
   "metadata": {
    "scrolled": true
   },
   "outputs": [],
   "source": [
    "if mode=='all':\n",
    "    nmodes = 300\n",
    "    kpar_cut = kpar[:nmodes]\n",
    "    # wkcut = wk[:nmodes]\n",
    "    wkcut = np.ones(nmodes)\n",
    "    #set of 5 colors\n",
    "    colors=['blue', 'orange', 'brown', 'green', 'red', 'purple']\n",
    "    two_panel = False\n",
    "    if two_panel:\n",
    "        # make a three-panel figure with the lower panels smaller\n",
    "        fig, ax = plt.subplots(2, 1, figsize=[8, 8], gridspec_kw={'height_ratios': [1, 1]}, sharex=True)\n",
    "    \n",
    "        ax[0].plot(kpar_cut, p1d_unmasked[:nmodes]/wkcut, 's', label='no masking', color=colors[5], alpha=.3)\n",
    "        ax[0].plot(kpar_cut, p1d_randmasked[:nmodes]*L/Np**2/wkcut, '*', label=f'random masking', color=colors[1], alpha=.3)\n",
    "        ax[0].plot(kpar_cut, p1d_skyline[:nmodes]*L/Np**2/wkcut, 'o', label=f'skyline masking', color=colors[2], alpha=.3)\n",
    "        ax[0].plot(kpar_cut, p1d_2skyline[:nmodes]*L/Np**2/wkcut, 'x', label=f'double skyline masking', color=colors[3], alpha=.3)\n",
    "        ax[0].plot(kpar_cut, p1d_dla[:nmodes]*L/Np**2/wkcut, '^', label=f'DLA masking', color=colors[4], alpha=.3)\n",
    "        ax[0].set_xlim([0,6])\n",
    "        ax[0].legend()\n",
    "        ax[0].set_ylabel(r'$P_{1D}$ [Mpc]')\n",
    "    \n",
    "    else:\n",
    "        fig, ax1 = plt.subplots(1, 1, figsize=[6, 4])\n",
    "        ax = [0,ax1]\n",
    "    plt.suptitle(r\"$P_{1D}$ from hydro simulation for different masks\")\n",
    "    \n",
    "    ax[1].set_xlim([0,7])\n",
    "    \n",
    "    # plot the pct difference from no-masking in the lower panel\n",
    "    ax[1].plot(kpar_cut, ((p1d_randmasked[:nmodes]*L/Np**2)/p1d_unmasked[:nmodes]-1)*100, linestyle='solid', color=colors[1], label='random masking')\n",
    "    ax[1].plot(kpar_cut, ((p1d_skyline[:nmodes]*L/Np**2)/p1d_unmasked[:nmodes]-1)*100, linestyle='dashed', color=colors[2], label='skyline masking')\n",
    "    ax[1].plot(kpar_cut, ((p1d_2skyline[:nmodes]*L/Np**2)/p1d_unmasked[:nmodes]-1)*100, linestyle='dashdot', color=colors[3], label='double skyline masking')\n",
    "    ax[1].plot(kpar_cut, ((p1d_dla[:nmodes]*L/Np**2)/p1d_unmasked[:nmodes]-1)*100, linestyle='dotted', color=colors[4], label='DLA masking')\n",
    "    ax[1].legend(loc='upper left')\n",
    "    ax[1].axhline([0], color='k')\n",
    "    ax[1].set_ylim([-1, 1])\n",
    "    ax[1].set_ylabel('Percent difference from unmasked')\n",
    "    ax[1].set_xlabel(r\"$k_{\\parallel}$ [Mpc$^{-1}$]\")\n",
    "    plt.savefig(\"p1d_hydro_four_masks_pctdiff.pdf\")"
   ]
  },
  {
   "cell_type": "code",
   "execution_count": 21,
   "metadata": {},
   "outputs": [
    {
     "name": "stdout",
     "output_type": "stream",
     "text": [
      "['skyline_mask']\n"
     ]
    }
   ],
   "source": [
    "# read the masks\n",
    "maskdir = \"/data/desi/scratch/mlokken/masking/\"\n",
    "masks = []\n",
    "masknames = []\n",
    "if mode=='all':\n",
    "    for maskfile in ['random_mask.npy', 'skyline_mask.npy', 'double_skyline_mask.npy', 'dla_mask.npy']:\n",
    "        masks.append(np.load(maskdir+maskfile))\n",
    "        # ((nside, nside, Np)) reshape\n",
    "        masknames.append(os.path.splitext(maskfile)[0])\n",
    "elif mode=='2skyline':\n",
    "    for maskfile in ['double_skyline_mask.npy']:\n",
    "        masks.append(np.load(maskdir+maskfile))\n",
    "        # ((nside, nside, Np)) reshape\n",
    "        masknames.append(os.path.splitext(maskfile)[0])\n",
    "elif mode=='skyline':\n",
    "    for maskfile in ['skyline_mask.npy']:\n",
    "        masks.append(np.load(maskdir+maskfile))\n",
    "        # ((nside, nside, Np)) reshape\n",
    "        masknames.append(os.path.splitext(maskfile)[0])\n",
    "\n",
    "print(masknames)\n"
   ]
  },
  {
   "cell_type": "code",
   "execution_count": 24,
   "metadata": {},
   "outputs": [],
   "source": [
    "# FFT the masks\n",
    "if mode=='all':\n",
    "    skyline_mask_k = np.fft.fft(masks[1], axis=1)\n",
    "    skyline_2mask_k = np.fft.fft(masks[2], axis=1)\n",
    "    dla_mask_k = np.fft.fft(masks[3], axis=1)\n",
    "    random_mask_k = np.fft.fft(masks[0], axis=1)\n",
    "elif mode=='2skyline':\n",
    "    skyline_2mask_k = np.fft.fft(masks[0], axis=1)\n",
    "elif mode=='skyline':\n",
    "    skyline_mask_k = np.fft.fft(masks[0], axis=1)\n",
    "elif mode=='dla':\n",
    "    dla_mask_k = np.fft.fft(masks[3], axis=1)\n",
    "elif mode=='random':\n",
    "    random_mask_k = np.fft.fft(masks[0], axis=1)\n",
    "    "
   ]
  },
  {
   "cell_type": "code",
   "execution_count": 25,
   "metadata": {},
   "outputs": [],
   "source": [
    "kmax = np.pi/pix_spacing\n",
    "kbin_spacing = kpar[1]-kpar[0]\n",
    "\n",
    "# make a set of bins with kpar as centers\n",
    "kbin_est = np.array([[kp-(kpar[1]-kpar[0])/2, kp+(kpar[1]-kpar[0])/2] for kp in kpar])\n",
    "Nbin = len(kbin_est)"
   ]
  },
  {
   "cell_type": "code",
   "execution_count": null,
   "metadata": {},
   "outputs": [],
   "source": [
    "# # plot the deltas of the DLA masked skewers vs the originals\n",
    "# plt.figure()\n",
    "# # i = 90\n",
    "# i = 0\n",
    "# for j in range(100):\n",
    "#     # plt.plot(xpar_b, delta_flux_b_grid[i, i], label='original')\n",
    "#     # plt.plot(xpar_b, delta_flux_dla_b_grid[i, i], label='DLA masked')\n",
    "#     # plt.plot(xpar_b, delta_flux_2skyline_b_grid[i, i], label='2 skylines masked')\n",
    "#     plt.plot(xpar_b, delta_flux_dla_b_grid.real[i, j]-delta_flux_b_grid.real[i, j], label='DLA masked')\n",
    "\n",
    "#     # plt.plot(xpar_b, delta_flux_randmasked_b_grid.real[i, i]-delta_flux_b_grid.real[i, i], label='random masked')\n",
    "#     # plt.plot(xpar_b, delta_flux_2skyline_b_grid[i, i]-delta_flux_b_grid[i,i], label='2 skylines masked')\n",
    "#     plt.plot(xpar_b, delta_flux_skyline_b_grid.real[i, j]-delta_flux_b_grid.real[i,j], label='1 skylines masked')\n",
    "#     plt.ylim([-.5,.3])\n",
    "#     plt.legend()\n",
    "#     plt.show()\n",
    "#     plt.clf()\n",
    "\n",
    "    # # plot the delta flux k\n",
    "    # plt.plot(kpar_b,delta_flux_k_grid[i,j], label='original')\n",
    "    # plt.plot(kpar_b,delta_flux_randmasked_k_grid[i,j], label='random masked')\n",
    "    # plt.plot(kpar_b,delta_flux_skyline_k_grid[i,j], label='skyline masked')\n",
    "    # plt.plot(kpar_b,delta_flux_dla_k_grid[i,j], label='DLA masked')\n",
    "    # plt.plot(kpar_b,delta_flux_2skyline_k_flat[i,j], label='double skyline masked')\n",
    "    # plt.legend()\n",
    "    # plt.show()\n",
    "    # plt.clf()"
   ]
  },
  {
   "cell_type": "markdown",
   "metadata": {},
   "source": [
    "Get the FFT measurements"
   ]
  },
  {
   "cell_type": "code",
   "execution_count": 47,
   "metadata": {},
   "outputs": [],
   "source": [
    "def model_mask(nmodes, mask, p1d, lowmem=True):\n",
    "    masked_p1d_est = np.zeros(nmodes)\n",
    "    for m in range(nmodes):\n",
    "        if m%10==0:\n",
    "            print(\"Getting model for mode\", m)\n",
    "        if lowmem:\n",
    "            masked_p1d_est[m] = mc.calculate_masked_power_fft_loop(m, mask, p1d)\n",
    "        else:\n",
    "            masked_p1d_est[m] = mc.calculate_masked_power_fft_array(m, mask, p1d)\n",
    "    return masked_p1d_est\n",
    "\n",
    "def plot_mask_model(nmodes, kpar, original_power, masked_power, masked_power_model, label, L=L, Np=Np):\n",
    "    fig, ax = plt.subplots(nrows=2, ncols=1, sharex=True, figsize=[6,6], gridspec_kw={'height_ratios': [3, 1]})\n",
    "    kpar_cut = kpar[:nmodes]\n",
    "    ax[0].plot(kpar_cut, original_power[:nmodes], label='unmasked', color='blue')\n",
    "    ax[0].plot(kpar_cut, masked_power[:nmodes]*L/Np**2, label='after ' + label+ ' masking', color='orange')\n",
    "    ax[0].plot(kpar_cut, masked_power_model*L/Np**2, linestyle='dotted', label='model of masked power', color='green')\n",
    "    # ax[0].plot(kfine, p1d_fine, label='best-fit P1D whole sim')\n",
    "    # ax[0].plot(kpar_cut, np.abs(skyline_2mask_k_flat[0, :nmodes])*L/Np**2, label='mask FFT')\n",
    "    ax[0].set_ylim([0,.6])\n",
    "    ax[0].legend()\n",
    "    ax[0].set_xscale('log')\n",
    "    ax[1].set_xlabel(r'$k_{\\parallel}$ [Mpc$^{-1}$]')\n",
    "    ax[0].set_ylabel(r'$P_{1D}$ [Mpc]')\n",
    "    ax[0].set_xlim([.1,6])\n",
    "    ax[1].plot(kpar_cut, ((masked_power[:nmodes]*L/Np**2)/original_power[:nmodes]-1)*100, label='masked vs unmasked', color='orange')\n",
    "    ax[1].plot(kpar_cut, (masked_power_model[:nmodes]/(masked_power[:nmodes]*L/Np**2)-1)*100, label='model vs masked', color='green')\n",
    "    ax[1].legend(loc=[.03, .8], framealpha=1)\n",
    "    ax[1].set_ylabel(\"Percentage difference\")\n",
    "    ax[1].axhspan(-.5, .5, color='grey', alpha=0.5)\n",
    "    ax[1].set_ylim([-1,1])\n",
    "    # plt.savefig(f\"p1d_hydro_{label}_mask_model.pdf\")\n",
    "    plt.show()\n",
    "    plt.clf()"
   ]
  },
  {
   "cell_type": "code",
   "execution_count": 17,
   "metadata": {},
   "outputs": [],
   "source": [
    "p1d_unmasked_full = np.concatenate((p1d_unmasked, p1d_unmasked[1:-1][::-1]))"
   ]
  },
  {
   "cell_type": "code",
   "execution_count": 50,
   "metadata": {},
   "outputs": [
    {
     "name": "stdout",
     "output_type": "stream",
     "text": [
      "Getting model for mode 0\n",
      "doing the array mode.\n",
      "got the mask_mn_fft array\n",
      "doing the array mode.\n",
      "got the mask_mn_fft array\n",
      "doing the array mode.\n",
      "got the mask_mn_fft array\n",
      "doing the array mode.\n",
      "got the mask_mn_fft array\n",
      "doing the array mode.\n",
      "got the mask_mn_fft array\n",
      "doing the array mode.\n",
      "got the mask_mn_fft array\n",
      "doing the array mode.\n",
      "got the mask_mn_fft array\n",
      "doing the array mode.\n",
      "got the mask_mn_fft array\n",
      "doing the array mode.\n",
      "got the mask_mn_fft array\n",
      "doing the array mode.\n",
      "got the mask_mn_fft array\n",
      "Getting model for mode 10\n",
      "doing the array mode.\n",
      "got the mask_mn_fft array\n",
      "doing the array mode.\n",
      "got the mask_mn_fft array\n",
      "doing the array mode.\n",
      "got the mask_mn_fft array\n",
      "doing the array mode.\n",
      "got the mask_mn_fft array\n",
      "doing the array mode.\n",
      "got the mask_mn_fft array\n",
      "doing the array mode.\n",
      "got the mask_mn_fft array\n",
      "doing the array mode.\n",
      "got the mask_mn_fft array\n",
      "doing the array mode.\n",
      "got the mask_mn_fft array\n",
      "doing the array mode.\n",
      "got the mask_mn_fft array\n",
      "doing the array mode.\n",
      "got the mask_mn_fft array\n",
      "Getting model for mode 20\n",
      "doing the array mode.\n",
      "got the mask_mn_fft array\n",
      "doing the array mode.\n",
      "got the mask_mn_fft array\n",
      "doing the array mode.\n",
      "got the mask_mn_fft array\n",
      "doing the array mode.\n",
      "got the mask_mn_fft array\n",
      "doing the array mode.\n",
      "got the mask_mn_fft array\n",
      "doing the array mode.\n",
      "got the mask_mn_fft array\n",
      "doing the array mode.\n",
      "got the mask_mn_fft array\n",
      "doing the array mode.\n",
      "got the mask_mn_fft array\n",
      "doing the array mode.\n",
      "got the mask_mn_fft array\n",
      "doing the array mode.\n",
      "got the mask_mn_fft array\n",
      "Getting model for mode 30\n",
      "doing the array mode.\n"
     ]
    },
    {
     "name": "stderr",
     "output_type": "stream",
     "text": [
      "IOStream.flush timed out\n",
      "IOStream.flush timed out\n"
     ]
    },
    {
     "name": "stdout",
     "output_type": "stream",
     "text": [
      "got the mask_mn_fft array\n",
      "doing the array mode.\n",
      "<NULL>\n"
     ]
    },
    {
     "ename": "SystemError",
     "evalue": "CPUDispatcher(<function calculate_masked_power_fft_array at 0x7f7845129760>) returned a result with an exception set",
     "output_type": "error",
     "traceback": [
      "\u001b[0;31m---------------------------------------------------------------------------\u001b[0m",
      "\u001b[0;31mKeyboardInterrupt\u001b[0m                         Traceback (most recent call last)",
      "File \u001b[0;32m/data/desi/common/pcross/lib/python3.11/site-packages/numba/core/serialize.py:30\u001b[0m, in \u001b[0;36m_numba_unpickle\u001b[0;34m(address, bytedata, hashed)\u001b[0m\n\u001b[1;32m     27\u001b[0m _unpickled_memo \u001b[38;5;241m=\u001b[39m {}\n\u001b[0;32m---> 30\u001b[0m \u001b[38;5;28;01mdef\u001b[39;00m \u001b[38;5;21m_numba_unpickle\u001b[39m(address, bytedata, hashed):\n\u001b[1;32m     31\u001b[0m \u001b[38;5;250m    \u001b[39m\u001b[38;5;124;03m\"\"\"Used by `numba_unpickle` from _helperlib.c\u001b[39;00m\n\u001b[1;32m     32\u001b[0m \n\u001b[1;32m     33\u001b[0m \u001b[38;5;124;03m    Parameters\u001b[39;00m\n\u001b[0;32m   (...)\u001b[0m\n\u001b[1;32m     42\u001b[0m \u001b[38;5;124;03m        unpickled object\u001b[39;00m\n\u001b[1;32m     43\u001b[0m \u001b[38;5;124;03m    \"\"\"\u001b[39;00m\n",
      "\u001b[0;31mKeyboardInterrupt\u001b[0m: ",
      "\nThe above exception was the direct cause of the following exception:\n",
      "\u001b[0;31mSystemError\u001b[0m                               Traceback (most recent call last)",
      "Cell \u001b[0;32mIn[50], line 16\u001b[0m\n\u001b[1;32m     14\u001b[0m     plot_mask_model(nmodes, kpar, p1d_unmasked_full, p1d_2skyline, model_2skyline, \u001b[38;5;124m'\u001b[39m\u001b[38;5;124mdouble skyline\u001b[39m\u001b[38;5;124m'\u001b[39m, L\u001b[38;5;241m=\u001b[39mL, Np\u001b[38;5;241m=\u001b[39mNp)\n\u001b[1;32m     15\u001b[0m \u001b[38;5;28;01melif\u001b[39;00m mode\u001b[38;5;241m==\u001b[39m\u001b[38;5;124m'\u001b[39m\u001b[38;5;124mskyline\u001b[39m\u001b[38;5;124m'\u001b[39m:\n\u001b[0;32m---> 16\u001b[0m     model_skyline \u001b[38;5;241m=\u001b[39m \u001b[43mmodel_mask\u001b[49m\u001b[43m(\u001b[49m\u001b[43mnmodes\u001b[49m\u001b[43m,\u001b[49m\u001b[43m \u001b[49m\u001b[43mskyline_mask_k\u001b[49m\u001b[43m,\u001b[49m\u001b[43m \u001b[49m\u001b[43mp1d_unmasked_full\u001b[49m\u001b[43m,\u001b[49m\u001b[43m \u001b[49m\u001b[43mlowmem\u001b[49m\u001b[38;5;241;43m=\u001b[39;49m\u001b[38;5;28;43;01mFalse\u001b[39;49;00m\u001b[43m)\u001b[49m\n\u001b[1;32m     17\u001b[0m     plot_mask_model(nmodes, kpar, p1d_unmasked_full, p1d_skyline, model_skyline, \u001b[38;5;124m'\u001b[39m\u001b[38;5;124mskyline\u001b[39m\u001b[38;5;124m'\u001b[39m, L\u001b[38;5;241m=\u001b[39mL, Np\u001b[38;5;241m=\u001b[39mNp)\n\u001b[1;32m     18\u001b[0m \u001b[38;5;28;01melif\u001b[39;00m mode\u001b[38;5;241m==\u001b[39m\u001b[38;5;124m'\u001b[39m\u001b[38;5;124mdla\u001b[39m\u001b[38;5;124m'\u001b[39m:\n",
      "Cell \u001b[0;32mIn[47], line 9\u001b[0m, in \u001b[0;36mmodel_mask\u001b[0;34m(nmodes, mask, p1d, lowmem)\u001b[0m\n\u001b[1;32m      7\u001b[0m         masked_p1d_est[m] \u001b[38;5;241m=\u001b[39m mc\u001b[38;5;241m.\u001b[39mcalculate_masked_power_fft_loop(m, mask, p1d)\n\u001b[1;32m      8\u001b[0m     \u001b[38;5;28;01melse\u001b[39;00m:\n\u001b[0;32m----> 9\u001b[0m         masked_p1d_est[m] \u001b[38;5;241m=\u001b[39m \u001b[43mmc\u001b[49m\u001b[38;5;241;43m.\u001b[39;49m\u001b[43mcalculate_masked_power_fft_array\u001b[49m\u001b[43m(\u001b[49m\u001b[43mm\u001b[49m\u001b[43m,\u001b[49m\u001b[43m \u001b[49m\u001b[43mmask\u001b[49m\u001b[43m,\u001b[49m\u001b[43m \u001b[49m\u001b[43mp1d\u001b[49m\u001b[43m)\u001b[49m\n\u001b[1;32m     10\u001b[0m \u001b[38;5;28;01mreturn\u001b[39;00m masked_p1d_est\n",
      "\u001b[0;31mSystemError\u001b[0m: CPUDispatcher(<function calculate_masked_power_fft_array at 0x7f7845129760>) returned a result with an exception set"
     ]
    }
   ],
   "source": [
    "nmodes = 60\n",
    "if mode=='all':\n",
    "    model_2skyline = model_mask(nmodes, skyline_2mask_k, p1d_unmasked_full)\n",
    "    model_dla = model_mask(nmodes, dla_mask_k, p1d_unmasked_full)\n",
    "    model_rand = model_mask(nmodes, random_mask_k, p1d_unmasked_full)\n",
    "    model_skyline = model_mask(nmodes, skyline_mask_k, p1d_unmasked_full)\n",
    "    plot_mask_model(nmodes, kpar, p1d_unmasked_full, p1d_randmasked, model_rand, 'random', L=L, Np=Np)\n",
    "    plot_mask_model(nmodes, kpar, p1d_unmasked_full, p1d_skyline, model_skyline, 'skyline', L=L, Np=Np)\n",
    "    plot_mask_model(nmodes, kpar, p1d_unmasked_full, p1d_dla, model_dla, 'DLA', L=L, Np=Np)\n",
    "    plot_mask_model(nmodes, kpar, p1d_unmasked_full, p1d_2skyline, model_2skyline, 'double skyline', L=L, Np=Np)\n",
    "\n",
    "elif mode=='2skyline':\n",
    "    model_2skyline = model_mask(nmodes, skyline_2mask_k, p1d_unmasked_full, lowmem=True)\n",
    "    plot_mask_model(nmodes, kpar, p1d_unmasked_full, p1d_2skyline, model_2skyline, 'double skyline', L=L, Np=Np)\n",
    "elif mode=='skyline':\n",
    "    model_skyline = model_mask(nmodes, skyline_mask_k, p1d_unmasked_full, lowmem=True)\n",
    "    plot_mask_model(nmodes, kpar, p1d_unmasked_full, p1d_skyline, model_skyline, 'skyline', L=L, Np=Np)\n",
    "elif mode=='dla':\n",
    "    model_dla = model_mask(nmodes, dla_mask_k, p1d_unmasked_full, lowmem=True)\n",
    "    plot_mask_model(nmodes, kpar, p1d_unmasked_full, p1d_dla, model_dla, 'DLA', L=L, Np=Np)\n",
    "elif mode=='rand':\n",
    "    model_rand = model_mask(nmodes, random_mask_k, p1d_unmasked_full, lowmem=True)\n",
    "    plot_mask_model(nmodes, kpar, p1d_unmasked_full, p1d_randmasked, model_rand, 'random', L=L, Np=Np)"
   ]
  },
  {
   "cell_type": "code",
   "execution_count": 164,
   "metadata": {},
   "outputs": [
    {
     "data": {
      "image/png": "[encoded data removed]",
      "text/plain": [
       "<Figure size 600x600 with 2 Axes>"
      ]
     },
     "metadata": {},
     "output_type": "display_data"
    },
    {
     "data": {
      "text/plain": [
       "<Figure size 640x480 with 0 Axes>"
      ]
     },
     "metadata": {},
     "output_type": "display_data"
    }
   ],
   "source": [
    "plot_mask_model(nmodes, kpar, p1d_unmasked_full, p1d_2skyline, model_2skyline, 'double skyline', L=L, Np=Np)\n"
   ]
  },
  {
   "cell_type": "code",
   "execution_count": null,
   "metadata": {},
   "outputs": [],
   "source": [
    "print(\"Lowest k mode that can be measured with full box is \", kpar[1], 2*np.pi/L, \"the fundamental frequency\")"
   ]
  },
  {
   "cell_type": "code",
   "execution_count": 255,
   "metadata": {},
   "outputs": [],
   "source": [
    "# confirm that the optimal estimator produces an unbiased result\n",
    "# do the setup\n",
    "delta_x_matrix = est.make_delta_x_matrix(L, Np, xpar)\n",
    "S_fiducial = est.s_fid(arinyo, zs[0], arinyo_params, delta_x_matrix, pix_spacing, plot=False)\n",
    "Leff=1000\n",
    "Np_fine=40000\n",
    "xfine=np.linspace(0.0,Leff,Np_fine)\n",
    "spacing_fine=Leff/Np_fine\n",
    "kfine = np.fft.rfftfreq(Np_fine, spacing_fine)*2*np.pi\n",
    "p1d_fine = arinyo.P1D_Mpc(zs[0], kfine, parameters=arinyo_params)\n",
    "xi_fid = np.fft.irfft(p1d_fine) / spacing_fine\n",
    "xi_fid_func = interp1d(xfine, xi_fid, kind='slinear', fill_value='extrapolate')\n",
    "C_0_mat = est.c0(xi_fid_func, delta_x_matrix)\n",
    "C_0_invmat = np.linalg.inv(C_0_mat)"
   ]
  },
  {
   "cell_type": "code",
   "execution_count": 225,
   "metadata": {},
   "outputs": [
    {
     "name": "stdout",
     "output_type": "stream",
     "text": [
      "Starting P1D.\n",
      "center of kbins:  [0.0, 0.0930842267730309, 0.1861684535460618, 0.27925268031909267, 0.3723369070921236, 0.46542113386515443, 0.5585053606381853, 0.6515895874112162, 0.7446738141842472, 0.837758040957278, 0.9308422677303089, 1.0239264945033397, 1.1170107212763707, 1.2100949480494017, 1.3031791748224324, 1.3962634015954634, 1.4893476283684943, 1.5824318551415253, 1.675516081914556, 1.768600308687587, 1.8616845354606177, 1.9547687622336487, 2.0478529890066794, 2.1409372157797106, 2.2340214425527414]\n",
      "Getting derivative matrices.\n",
      "Starting loop through data.\n",
      "This k took 11.471966981887817 seconds\n",
      "This k took 9.909932136535645 seconds\n",
      "This k took 16.589059114456177 seconds\n",
      "This k took 13.05282711982727 seconds\n",
      "This k took 18.96342134475708 seconds\n",
      "This k took 18.215703010559082 seconds\n",
      "This k took 13.201503992080688 seconds\n",
      "This k took 12.4863121509552 seconds\n",
      "This k took 10.199319839477539 seconds\n",
      "This k took 9.712335109710693 seconds\n",
      "This k took 12.739845037460327 seconds\n",
      "This k took 13.50288701057434 seconds\n",
      "This k took 12.749706983566284 seconds\n",
      "This k took 16.173043966293335 seconds\n",
      "This k took 16.76966404914856 seconds\n",
      "This k took 23.537815809249878 seconds\n",
      "This k took 19.392863035202026 seconds\n",
      "This k took 17.63084387779236 seconds\n",
      "This k took 18.68491220474243 seconds\n",
      "This k took 20.149239778518677 seconds\n",
      "This k took 13.861376762390137 seconds\n",
      "This k took 18.862047910690308 seconds\n",
      "This k took 14.2116858959198 seconds\n",
      "This k took 16.502166032791138 seconds\n",
      "This k took 16.573872804641724 seconds\n"
     ]
    }
   ],
   "source": [
    "# do the fiducial measurement\n",
    "kbin_centers, theta_est_p1d, F_alpha_beta_p1d, Lalpha_P1D = est.estimate_p1d(Np, delta_x_matrix, pix_spacing, delta_flux_grid, kbin_est[:25], S_fiducial, C_0_invmat, approx_fisher=True)"
   ]
  },
  {
   "cell_type": "code",
   "execution_count": 278,
   "metadata": {},
   "outputs": [
    {
     "name": "stdout",
     "output_type": "stream",
     "text": [
      "Starting P1D.\n",
      "center of kbins:  [0.0, 0.0930842267730309, 0.1861684535460618, 0.27925268031909267, 0.3723369070921236, 0.46542113386515443, 0.5585053606381853, 0.6515895874112162, 0.7446738141842472, 0.837758040957278, 0.9308422677303089, 1.0239264945033397, 1.1170107212763707, 1.2100949480494017, 1.3031791748224324]\n",
      "Getting derivative matrices.\n",
      "Starting loop through data.\n",
      "This k took 20.06328010559082 seconds\n",
      "This k took 25.390316009521484 seconds\n",
      "This k took 19.718116998672485 seconds\n",
      "This k took 29.863620042800903 seconds\n",
      "This k took 22.34372901916504 seconds\n",
      "This k took 21.933873891830444 seconds\n",
      "This k took 24.367255687713623 seconds\n",
      "This k took 30.966569900512695 seconds\n",
      "This k took 23.83536982536316 seconds\n",
      "This k took 27.195455074310303 seconds\n",
      "This k took 22.179786205291748 seconds\n",
      "This k took 27.386509895324707 seconds\n",
      "This k took 24.362816095352173 seconds\n",
      "This k took 17.988892078399658 seconds\n",
      "This k took 23.26703691482544 seconds\n"
     ]
    }
   ],
   "source": [
    "# do the masked measurements\n",
    "kbin_centers, theta_est_p1d_rand, F_alpha_beta_p1d_rand, Lalpha_P1D_rand = est.estimate_p1d(Np, delta_x_matrix, pix_spacing, delta_flux_randmasked_grid, kbin_est[:15], S_fiducial, C_0_invmat, C_0_mat=C_0_mat, weights=1/(random_mask+1e-5), approx_fisher=True)\n"
   ]
  },
  {
   "cell_type": "code",
   "execution_count": 289,
   "metadata": {},
   "outputs": [
    {
     "name": "stdout",
     "output_type": "stream",
     "text": [
      "Starting P1D.\n",
      "center of kbins:  [0.0, 0.0930842267730309, 0.1861684535460618, 0.27925268031909267, 0.3723369070921236, 0.46542113386515443, 0.5585053606381853, 0.6515895874112162, 0.7446738141842472, 0.837758040957278, 0.9308422677303089, 1.0239264945033397, 1.1170107212763707, 1.2100949480494017, 1.3031791748224324]\n",
      "Getting derivative matrices.\n",
      "Starting loop through data.\n",
      "This k took 26.582276105880737 seconds\n",
      "This k took 39.77098298072815 seconds\n",
      "This k took 34.73501372337341 seconds\n",
      "This k took 34.26375603675842 seconds\n",
      "This k took 24.36147403717041 seconds\n",
      "This k took 24.123600721359253 seconds\n",
      "This k took 28.782420873641968 seconds\n",
      "This k took 31.133329153060913 seconds\n",
      "This k took 37.090906858444214 seconds\n",
      "This k took 34.70977306365967 seconds\n",
      "This k took 30.74790620803833 seconds\n",
      "This k took 27.021751880645752 seconds\n",
      "This k took 28.13994598388672 seconds\n",
      "This k took 26.83265209197998 seconds\n",
      "This k took 21.78049111366272 seconds\n"
     ]
    }
   ],
   "source": [
    "kbin_centers, theta_est_p1d_skyline, F_alpha_beta_p1d_skyline, Lalpha_P1D_skyline = est.estimate_p1d(Np, delta_x_matrix, pix_spacing, delta_flux_skyline_grid, kbin_est[:15], S_fiducial, C_0_invmat,C_0_mat=C_0_mat,  weights=1/(skyline_mask+1e-5), approx_fisher=True)"
   ]
  },
  {
   "cell_type": "code",
   "execution_count": 292,
   "metadata": {},
   "outputs": [
    {
     "name": "stdout",
     "output_type": "stream",
     "text": [
      "Starting P1D.\n",
      "center of kbins:  [0.0, 0.0930842267730309, 0.1861684535460618, 0.27925268031909267, 0.3723369070921236, 0.46542113386515443, 0.5585053606381853, 0.6515895874112162, 0.7446738141842472, 0.837758040957278, 0.9308422677303089, 1.0239264945033397, 1.1170107212763707, 1.2100949480494017, 1.3031791748224324]\n",
      "Getting derivative matrices.\n",
      "Starting loop through data.\n",
      "This k took 22.828445196151733 seconds\n",
      "This k took 20.60446572303772 seconds\n",
      "This k took 24.44278597831726 seconds\n",
      "This k took 22.28462505340576 seconds\n",
      "This k took 25.761786937713623 seconds\n",
      "This k took 26.210994958877563 seconds\n",
      "This k took 23.809076070785522 seconds\n",
      "This k took 21.34253215789795 seconds\n",
      "This k took 21.76136088371277 seconds\n",
      "This k took 28.216991901397705 seconds\n",
      "This k took 34.29638695716858 seconds\n",
      "This k took 28.285340785980225 seconds\n",
      "This k took 33.32581663131714 seconds\n",
      "This k took 25.271300792694092 seconds\n",
      "This k took 16.9674870967865 seconds\n"
     ]
    }
   ],
   "source": [
    "kbin_centers, theta_est_p1d_2skyline, F_alpha_beta_p1d_2skyline, Lalpha_P1D_2skyline = est.estimate_p1d(Np, delta_x_matrix, pix_spacing, delta_flux_2skyline_grid, kbin_est[:15], S_fiducial, C_0_invmat,C_0_mat=C_0_mat,  weights=1/(skyline_2mask+1e-5), approx_fisher=True)"
   ]
  },
  {
   "cell_type": "code",
   "execution_count": null,
   "metadata": {},
   "outputs": [],
   "source": [
    "kbin_centers, theta_est_p1d_dla, F_alpha_beta_p1d_dla, Lalpha_P1D_dla = est.estimate_p1d(Np, delta_x_matrix, pix_spacing, delta_flux_dla_grid, kbin_est[:25], S_fiducial, C_0_invmat, approx_fisher=True)"
   ]
  },
  {
   "cell_type": "code",
   "execution_count": 236,
   "metadata": {},
   "outputs": [
    {
     "data": {
      "text/plain": [
       "135"
      ]
     },
     "execution_count": 236,
     "metadata": {},
     "output_type": "execute_result"
    }
   ],
   "source": [
    "Nbin//2"
   ]
  },
  {
   "cell_type": "code",
   "execution_count": 246,
   "metadata": {},
   "outputs": [],
   "source": [
    "p1d_fid = est.bin_model(kfine, p1d_fine, kbin_est[:135], Nbin//2-2)"
   ]
  },
  {
   "cell_type": "code",
   "execution_count": 290,
   "metadata": {},
   "outputs": [],
   "source": [
    "kbin_centers = [(k[0]+k[1])/2. for k in kbin_est]\n"
   ]
  },
  {
   "cell_type": "code",
   "execution_count": 301,
   "metadata": {},
   "outputs": [
    {
     "data": {
      "image/png": "[encoded data removed]",
      "text/plain": [
       "<Figure size 600x600 with 2 Axes>"
      ]
     },
     "metadata": {},
     "output_type": "display_data"
    },
    {
     "data": {
      "text/plain": [
       "<Figure size 640x480 with 0 Axes>"
      ]
     },
     "metadata": {},
     "output_type": "display_data"
    }
   ],
   "source": [
    "nmodes = 15\n",
    "fig, ax = plt.subplots(nrows=2, ncols=1, sharex=True, figsize=[6,6], gridspec_kw={'height_ratios': [3, 1]})\n",
    "kpar_cut = kbin_centers[:nmodes]\n",
    "plt.suptitle(\"P1D from optimal estimator\")\n",
    "ax[0].plot(kpar_cut, p1d_fid[:nmodes]+theta_est_p1d[:nmodes], label='Unmasked', color='blue')\n",
    "ax[0].plot(kpar_cut[:nmodes], p1d_fid[:nmodes]+theta_est_p1d_rand[:nmodes], label='Random masking', linestyle='dashed', color='red')\n",
    "ax[0].plot(kpar_cut, p1d_fid[:nmodes]+theta_est_p1d_2skyline[:nmodes], label='Double-skyline masking', linestyle='dotted', color='green')\n",
    "ax[1].set_xlabel(r'$k_{\\parallel}$ [Mpc$^{-1}$]')\n",
    "ax[0].set_ylabel(r'$P_{1D}$ [Mpc]')\n",
    "# ax[0].plot(kpar_cut, p1d_fid[:nmodes]+theta_est_p1d_skyline[:nmodes], label='skyline masked')\n",
    "# ax[0].plot(kpar_cut, theta_est_p1d_2skyline[:nmodes], label='double skyline masked')\n",
    "# ax[0].plot(kpar_cut, theta_est_p1d_dla[:nmodes], label='DLA masked')\n",
    "ax[1].plot(kpar_cut, (p1d_fid[:nmodes]+theta_est_p1d_rand[:nmodes])/(p1d_fid[:nmodes]+theta_est_p1d[:nmodes])-1, label='random masking vs unmasked', color='red')\n",
    "ax[1].plot(kpar_cut, (p1d_fid[:nmodes]+theta_est_p1d_2skyline[:nmodes])/(p1d_fid[:nmodes]+theta_est_p1d[:nmodes])-1, label='double skyline masking vs original', color='green')\n",
    "# ax[1].plot(kpar_cut, theta_est_p1d_2skyline[:nmodes]/theta_est_p1d[:nmodes]-1, label='double skyline masked vs original', color='purple')\n",
    "# ax[1].plot(kpar_cut, theta_est_p1d_dla[:nmodes]/theta_est_p1d[:nmodes]-1, label='DLA masked vs original', color='red')\n",
    "ax[1].legend(loc=[.03, .6], framealpha=1)\n",
    "ax[1].set_ylabel(\"Fractional difference\")\n",
    "ax[1].axhspan(-.005, .005, color='grey', alpha=0.5)\n",
    "ax[1].set_ylim([-.02,.02])\n",
    "ax[0].legend()\n",
    "ax[1].set_xscale('log')\n",
    "\n",
    "plt.show()\n",
    "plt.clf()\n"
   ]
  },
  {
   "cell_type": "code",
   "execution_count": null,
   "metadata": {},
   "outputs": [],
   "source": []
  }
 ],
 "metadata": {
  "kernelspec": {
   "display_name": "pcross_2025",
   "language": "python",
   "name": "pcross_2025"
  },
  "language_info": {
   "codemirror_mode": {
    "name": "ipython",
    "version": 3
   },
   "file_extension": ".py",
   "mimetype": "text/x-python",
   "name": "python",
   "nbconvert_exporter": "python",
   "pygments_lexer": "ipython3",
   "version": "3.11.11"
  }
 },
 "nbformat": 4,
 "nbformat_minor": 4
}
