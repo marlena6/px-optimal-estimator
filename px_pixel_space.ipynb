{
 "cells": [
  {
   "cell_type": "code",
   "execution_count": 1,
   "metadata": {},
   "outputs": [],
   "source": [
    "import numpy as np\n",
    "import sys\n",
    "sys.path.append('..')\n",
    "import matplotlib.pyplot as plt\n",
    "%load_ext autoreload\n",
    "%autoreload 2\n",
    "import estimator as est\n",
    "rng = np.random.default_rng(seed=315)\n",
    "import skewer_computations as skc\n",
    "from forestflow.model_p3d_arinyo import ArinyoModel\n",
    "from forestflow.archive import GadgetArchive3D\n",
    "from lace.cosmo import camb_cosmo\n",
    "from forestflow import pcross\n",
    "from scipy.interpolate import interp1d"
   ]
  },
  {
   "cell_type": "markdown",
   "metadata": {},
   "source": [
    "Load the data"
   ]
  },
  {
   "cell_type": "code",
   "execution_count": 183,
   "metadata": {},
   "outputs": [],
   "source": [
    "# set sim_name\n",
    "sim_name='sim_pair_30' # other version will be 'diffSeed'\n",
    "sim_dir='central'\n",
    "snap_num = 6\n",
    "# set phase\n",
    "phase = \"sim_minus\"\n",
    "# set axis number\n",
    "axis = 1"
   ]
  },
  {
   "cell_type": "code",
   "execution_count": 184,
   "metadata": {},
   "outputs": [
    {
     "name": "stdout",
     "output_type": "stream",
     "text": [
      "pixel spacing is 0.05 Mpc\n"
     ]
    }
   ],
   "source": [
    "# load the skewers x \n",
    "meas_path = \"/Users/mlokken/research/lyman_alpha/data/\"\n",
    "delta_x = np.load(meas_path+\"snap_{:d}/delta_x/skewers_6_psim_minus_ax1_Ns768_wM0.05_sT1.0_sg1.0.npz\".format(snap_num))\n",
    "delta_flux_x = delta_x['delta_flux_x'] # these are already normalized\n",
    "Np = delta_flux_x.shape[1]\n",
    "L = delta_x['L_Mpc']\n",
    "pix_spacing = L/Np\n",
    "print(\"pixel spacing is\", pix_spacing, \"Mpc\")\n",
    "# xpar = delta_x['xpar'] # this is still wrong for some reason, redefined below\n",
    "delta_x.close()\n",
    "xpar = np.arange(0, L, pix_spacing)+pix_spacing/2.\n",
    "\n"
   ]
  },
  {
   "cell_type": "code",
   "execution_count": 185,
   "metadata": {},
   "outputs": [
    {
     "name": "stdout",
     "output_type": "stream",
     "text": [
      "Box is 67.5 Mpc per side with 768 skewers per side\n",
      "Spacing between pixels along line-of-sight = 0.05 Mpc\n",
      "Number of bins: 135\n",
      "Spacing between pixels along line-of-sight after binning = 0.49999999999999994 Mpc\n",
      "spacing between neighboring skewers is 0.09 Mpc\n"
     ]
    }
   ],
   "source": [
    "Np = delta_flux_x.shape[1]\n",
    "nskew = delta_flux_x.shape[0]\n",
    "nside = np.sqrt(nskew).astype(int)\n",
    "print(f\"Box is {L} Mpc per side with {nside} skewers per side\")\n",
    "print(f\"Spacing between pixels along line-of-sight = {pix_spacing} Mpc\")\n",
    "\n",
    "# bin delta_flux along line-of-sight\n",
    "binsize = 10\n",
    "if Np%binsize != 0:\n",
    "    print(\"Np is not divisible by binsize\")\n",
    "    sys.exit()\n",
    "delta_flux_b, xpar_b = est.bin_spectra(delta_flux_x, xpar, binsize)\n",
    "Np_b=delta_flux_b.shape[1]\n",
    "pix_spacing_b = xpar_b[1]-xpar_b[0]\n",
    "print(f\"Spacing between pixels along line-of-sight after binning = {pix_spacing_b} Mpc\")\n",
    "delta_flux_k = np.fft.rfft(delta_flux_b)*np.sqrt(pix_spacing_b/Np_b)\n",
    "Nk = delta_flux_k.shape[1]\n",
    "# get the positions\n",
    "xpos = np.linspace(0,L,nside)\n",
    "ypos = np.linspace(0,L,nside)\n",
    "print(\"spacing between neighboring skewers is {:.2f} Mpc\".format(xpos[1]-xpos[0]))\n",
    "positions = np.array([[x,y] for x in xpos for y in ypos])\n",
    "subsel=False\n",
    "nsub=5000\n",
    "if subsel:\n",
    "    randoms = rng.choice(len(positions), size=nsub)\n",
    "    sel = np.zeros(len(positions), dtype=bool)\n",
    "    sel[randoms] = True\n",
    "else:\n",
    "    sel = np.ones(len(positions), dtype=bool)\n",
    "positions_sel = np.copy(positions)\n",
    "positions_sel[~sel] = np.nan\n",
    "delta_flux_x[~sel] = np.nan\n",
    "delta_flux_b[~sel] = np.nan\n",
    "delta_flux_k[~sel] = np.nan\n",
    "\n",
    "# make masked arrays\n",
    "delta_flux_x = np.ma.masked_invalid(delta_flux_x)\n",
    "delta_flux_b = np.ma.masked_invalid(delta_flux_b)\n",
    "delta_flux_k = np.ma.masked_invalid(delta_flux_k)\n",
    "positions_sel = np.ma.masked_invalid(positions_sel)\n",
    "\n",
    "# reshape into a grid\n",
    "delta_flux_x = np.reshape(delta_flux_x, (int(nside), int(nside), Np))\n",
    "delta_flux_b = np.reshape(delta_flux_b, (int(nside), int(nside), Np_b))\n",
    "delta_flux_k = np.reshape(delta_flux_k, (int(nside), int(nside), Nk))\n",
    "position_grid = np.reshape(positions_sel, (int(nside), int(nside), 2))\n"
   ]
  },
  {
   "cell_type": "code",
   "execution_count": 186,
   "metadata": {},
   "outputs": [],
   "source": [
    "delta_x_matrix_binned = est.make_delta_x_matrix(L, Np_b, xpar_b)"
   ]
  },
  {
   "cell_type": "markdown",
   "metadata": {},
   "source": [
    "Load the model"
   ]
  },
  {
   "cell_type": "code",
   "execution_count": 12,
   "metadata": {},
   "outputs": [],
   "source": [
    "# get the model\n",
    "\n",
    "path_program = \"/Users/mlokken/research/lyman_alpha/software/ForestFlow/\"\n",
    "\n",
    "folder_lya_data = path_program + \"data/best_arinyo/\"\n",
    "\n",
    "Archive3D = GadgetArchive3D(\n",
    "    base_folder=path_program[:-1],\n",
    "    folder_data=folder_lya_data,\n",
    "    force_recompute_plin=False,\n",
    "    average=\"both\",\n",
    ")\n"
   ]
  },
  {
   "cell_type": "code",
   "execution_count": 13,
   "metadata": {},
   "outputs": [
    {
     "name": "stdout",
     "output_type": "stream",
     "text": [
      "[3.]\n"
     ]
    }
   ],
   "source": [
    "# read the model\n",
    "central = Archive3D.get_testing_data(\"mpg_central\")\n",
    "zs = np.array([central[snap_num]['z']]) \n",
    "\n",
    "k3d_Mpc = central[snap_num]['k3d_Mpc']\n",
    "mu3d = central[snap_num]['mu3d']\n",
    "p3d_Mpc = central[snap_num]['p3d_Mpc']\n",
    "Plin = central[snap_num]['Plin']\n",
    "\n",
    "k1d_Mpc = central[snap_num]['k_Mpc']\n",
    "p1d_Mpc = central[snap_num]['p1d_Mpc']\n",
    "\n",
    "arinyo_params = central[snap_num]['Arinyo'] # best-fitting Arinyo params\n",
    "cosmo_params  = central[snap_num]['cosmo_params']\n",
    "\n",
    "print(zs)"
   ]
  },
  {
   "cell_type": "code",
   "execution_count": 14,
   "metadata": {},
   "outputs": [],
   "source": [
    "# input the details into the ArinyoModel class\n",
    "cosmo = camb_cosmo.get_cosmology_from_dictionary(cosmo_params)\n",
    "camb_results = camb_cosmo.get_camb_results(cosmo, zs=zs, camb_kmax_Mpc=1000)\n",
    "arinyo = ArinyoModel(cosmo=cosmo, camb_results=camb_results, zs=zs, camb_kmax_Mpc=1000)\n",
    "p1d = arinyo.P1D_Mpc(zs[0], np.linspace(0,10,20), parameters=arinyo_params) # get P1D at target z"
   ]
  },
  {
   "cell_type": "code",
   "execution_count": 187,
   "metadata": {},
   "outputs": [],
   "source": [
    "# Get the weighting matrix\n",
    "Leff=1000\n",
    "Np_fine=40000\n",
    "xfine=np.linspace(0.0,Leff,Np_fine)\n",
    "spacing_fine=Leff/Np_fine\n",
    "kfine = np.fft.rfftfreq(Np_fine, spacing_fine)*2*np.pi\n",
    "p1d_fine = arinyo.P1D_Mpc(zs[0], kfine, parameters=arinyo_params)\n",
    "xi_fid = np.fft.irfft(p1d_fine) / spacing_fine # to cancel the Mpc.\n",
    "xi_fid_func = interp1d(xfine, xi_fid, kind='slinear', fill_value='extrapolate')\n",
    "C0_mat_b = est.c0(xi_fid_func, delta_x_matrix_binned)\n",
    "C0_invmat_b = np.linalg.inv(C0_mat_b)\n",
    "# get the fiducial signal\n",
    "S_fiducial_b = est.s_fid(arinyo, zs[0], arinyo_params, delta_x_matrix_binned, pix_spacing_b)"
   ]
  },
  {
   "cell_type": "code",
   "execution_count": 188,
   "metadata": {},
   "outputs": [],
   "source": [
    "kpar_b = np.fft.rfftfreq(Np_b, pix_spacing_b)*2*np.pi # frequency in Mpc^-1\n",
    "kmax = np.pi/pix_spacing_b\n",
    "kbin_spacing = kpar_b[1]-kpar_b[0]\n",
    "\n",
    "# make a set of bins with kpar_b as centers\n",
    "kbin_est = np.array([[kp-(kpar_b[1]-kpar_b[0])/2, kp+(kpar_b[1]-kpar_b[0])/2] for kp in kpar_b])\n",
    "Nbin = len(kbin_est)"
   ]
  },
  {
   "cell_type": "markdown",
   "metadata": {},
   "source": [
    "Get the FFT measurements"
   ]
  },
  {
   "cell_type": "markdown",
   "metadata": {},
   "source": [
    "Define the bin we are going to measure."
   ]
  },
  {
   "cell_type": "code",
   "execution_count": 189,
   "metadata": {},
   "outputs": [
    {
     "name": "stdout",
     "output_type": "stream",
     "text": [
      "Plotting separations for bin [4.99, 5.01].\n",
      "20\n"
     ]
    },
    {
     "data": {
      "image/png": "[encoded data removed]",
      "text/plain": [
       "<Figure size 640x480 with 1 Axes>"
      ]
     },
     "metadata": {},
     "output_type": "display_data"
    }
   ],
   "source": [
    "distances = np.linalg.norm(positions-[0,0], axis=1)\n",
    "dgrid = distances.reshape(position_grid.shape[0:2])\n",
    "\n",
    "separation_bin = [4.99, 5.01]\n",
    "\n",
    "sbin = [separation_bin[0],separation_bin[1]]\n",
    "row_off, col_off = skc.offsets_inbin(positions, position_grid.shape[0:2],sbin)\n",
    "\n",
    "print(f\"Plotting separations for bin {sbin}.\")\n",
    "\n",
    "\n",
    "dists_remain = []\n",
    "for i in range(len(row_off)):\n",
    "    dists_remain.append(dgrid[row_off[i], col_off[i]])\n",
    "plt.hist(dists_remain)\n",
    "print(len(dists_remain))"
   ]
  },
  {
   "cell_type": "code",
   "execution_count": 190,
   "metadata": {},
   "outputs": [
    {
     "name": "stdout",
     "output_type": "stream",
     "text": [
      "For this cpu, there are 15360 pairs to compute.\n",
      "Ns_side is 768.0\n",
      "end of Px_array is 0.011822367599988772\n"
     ]
    }
   ],
   "source": [
    "jstep = 1\n",
    "imin = 0\n",
    "imax = nside//4\n",
    "jmin = 0\n",
    "jmax = 2\n",
    "Px, std, recorded_pairs = skc.Px_skewers_testmode_semicircle(delta_flux_k[:, :, :65], imin, imax, jmin, jmax, jstep, nskew, row_off, col_off)"
   ]
  },
  {
   "cell_type": "code",
   "execution_count": 181,
   "metadata": {},
   "outputs": [
    {
     "data": {
      "text/plain": [
       "245760"
      ]
     },
     "execution_count": 181,
     "metadata": {},
     "output_type": "execute_result"
    }
   ],
   "source": [
    "np.asarray(recorded_pairs).size"
   ]
  },
  {
   "cell_type": "code",
   "execution_count": 177,
   "metadata": {},
   "outputs": [
    {
     "data": {
      "text/plain": [
       "61440"
      ]
     },
     "execution_count": 177,
     "metadata": {},
     "output_type": "execute_result"
    }
   ],
   "source": [
    "len(recorded_pairs)"
   ]
  },
  {
   "cell_type": "code",
   "execution_count": 104,
   "metadata": {},
   "outputs": [
    {
     "data": {
      "text/plain": [
       "numpy.ndarray"
      ]
     },
     "execution_count": 104,
     "metadata": {},
     "output_type": "execute_result"
    }
   ],
   "source": [
    "# unmask the delta_flux_b array\n",
    "type(delta_flux_b)\n",
    "delta_flux_b_normal = np.asarray(delta_flux_b)\n",
    "type(delta_flux_b_normal)"
   ]
  },
  {
   "cell_type": "code",
   "execution_count": 192,
   "metadata": {},
   "outputs": [
    {
     "name": "stdout",
     "output_type": "stream",
     "text": [
      "Starting P1D.\n",
      "center of kbins:  [0.0, 0.09308422677303092, 0.18616845354606185, 0.2792526803190928, 0.3723369070921237, 0.4654211338651546, 0.5585053606381856, 0.6515895874112164, 0.7446738141842474, 0.8377580409572783, 0.9308422677303092, 1.0239264945033402, 1.1170107212763711, 1.2100949480494019, 1.3031791748224328, 1.3962634015954638, 1.4893476283684948, 1.5824318551415255, 1.6755160819145567, 1.7686003086875874, 1.8616845354606184, 1.9547687622336496, 2.0478529890066803, 2.140937215779711, 2.2340214425527423, 2.327105669325773, 2.4201898960988038, 2.513274122871835, 2.6063583496448657, 2.699442576417897]\n",
      "Getting derivative matrices.\n",
      "Starting loop through data.\n",
      "This k took 9.986703872680664 seconds\n",
      "This k took 10.925991773605347 seconds\n",
      "This k took 12.947394132614136 seconds\n",
      "This k took 16.788940906524658 seconds\n",
      "This k took 10.38927412033081 seconds\n",
      "This k took 9.638199090957642 seconds\n",
      "This k took 10.687772035598755 seconds\n",
      "This k took 10.618527889251709 seconds\n",
      "This k took 10.32072901725769 seconds\n",
      "This k took 9.41771125793457 seconds\n",
      "This k took 9.325956106185913 seconds\n",
      "This k took 10.523446083068848 seconds\n",
      "This k took 10.448486804962158 seconds\n",
      "This k took 15.773735761642456 seconds\n",
      "This k took 12.45769190788269 seconds\n",
      "This k took 12.240133047103882 seconds\n",
      "This k took 11.452071905136108 seconds\n",
      "This k took 11.69402003288269 seconds\n",
      "This k took 11.367993116378784 seconds\n",
      "This k took 11.544403076171875 seconds\n",
      "This k took 14.460124731063843 seconds\n",
      "This k took 13.740525007247925 seconds\n",
      "This k took 12.67136287689209 seconds\n",
      "This k took 9.709758281707764 seconds\n",
      "This k took 9.461156129837036 seconds\n",
      "This k took 9.417797327041626 seconds\n",
      "This k took 9.624972820281982 seconds\n",
      "This k took 10.063086032867432 seconds\n",
      "This k took 12.627649784088135 seconds\n",
      "This k took 9.200450897216797 seconds\n",
      "Matrix is supposed to be invertible.\n"
     ]
    }
   ],
   "source": [
    "kbin_centers, theta_est, F_alpha_beta, Lalpha, Npairs = est.estimate_px(Np_b, delta_x_matrix_binned, pix_spacing_b, delta_flux_b_normal, row_off, col_off, imax, jmax, jstep, kbin_est[:30], np.zeros(S_fiducial_b.shape), C0_invmat_b, approx_fisher=True)"
   ]
  },
  {
   "cell_type": "code",
   "execution_count": 193,
   "metadata": {},
   "outputs": [
    {
     "data": {
      "text/plain": [
       "15360"
      ]
     },
     "execution_count": 193,
     "metadata": {},
     "output_type": "execute_result"
    }
   ],
   "source": [
    "Npairs"
   ]
  },
  {
   "cell_type": "markdown",
   "metadata": {},
   "source": [
    "Bin the P1D model (initial guess) to match the binning of the $\\Delta P_{1D}$ estimates"
   ]
  },
  {
   "cell_type": "code",
   "execution_count": 194,
   "metadata": {},
   "outputs": [],
   "source": [
    "Nbin = len(kbin_centers)\n",
    "p1d_fid = est.bin_model(kfine, p1d_fine, kbin_est, Nbin)\n"
   ]
  },
  {
   "cell_type": "code",
   "execution_count": 195,
   "metadata": {},
   "outputs": [],
   "source": [
    "F_inv = np.linalg.inv(F_alpha_beta)\n"
   ]
  },
  {
   "cell_type": "code",
   "execution_count": 196,
   "metadata": {},
   "outputs": [
    {
     "data": {
      "text/plain": [
       "<matplotlib.legend.Legend at 0x29c9cf390>"
      ]
     },
     "execution_count": 196,
     "metadata": {},
     "output_type": "execute_result"
    },
    {
     "data": {
      "image/png": "[encoded data removed]",
      "text/plain": [
       "<Figure size 640x480 with 1 Axes>"
      ]
     },
     "metadata": {},
     "output_type": "display_data"
    }
   ],
   "source": [
    "plt.errorbar(kbin_centers,theta_est, yerr=np.sqrt(np.diag(F_inv)), fmt='o', label=r'$P_\\times$ QMLE estimate', color='black')\n",
    "plt.plot(kpar_b[:65], Px, '*', label=r'$P_\\times$ FFT measurement')\n",
    "plt.plot(kfine, p1d_fine, label='best-fit P1D whole sim')\n",
    "# plt.ylim([-1,1])\n",
    "plt.title(r\"$P_\\times$ at $r_\\perp={:.1f}-{:.1f}$ Mpc, {:d} pairs\".format(sbin[0], sbin[1], Npairs))\n",
    "plt.xlim([0,6])\n",
    "plt.legend()"
   ]
  },
  {
   "cell_type": "code",
   "execution_count": 205,
   "metadata": {},
   "outputs": [
    {
     "data": {
      "text/plain": [
       "<matplotlib.legend.Legend at 0x32bf09a10>"
      ]
     },
     "execution_count": 205,
     "metadata": {},
     "output_type": "execute_result"
    },
    {
     "data": {
      "image/png": "[encoded data removed]",
      "text/plain": [
       "<Figure size 640x480 with 1 Axes>"
      ]
     },
     "metadata": {},
     "output_type": "display_data"
    }
   ],
   "source": [
    "plt.errorbar(kbin_centers,theta_est, yerr=np.sqrt(np.diag(F_inv)), fmt='o', label=r'$P_\\times$ QMLE estimate', color='black', ms=3)\n",
    "plt.plot(kpar_b[:65], Px, '*', label=r'$P_\\times$ FFT measurement')\n",
    "plt.plot(kfine, p1d_fine, label='best-fit P1D whole sim')\n",
    "# plt.ylim([-1,1])\n",
    "plt.title(r\"$P_\\times$ at $r_\\perp={:.2f}-{:.2f}$ Mpc, {:d} pairs\".format(sbin[0], sbin[1], Npairs))\n",
    "plt.xlim([0,6])\n",
    "plt.legend()"
   ]
  },
  {
   "cell_type": "code",
   "execution_count": null,
   "metadata": {},
   "outputs": [],
   "source": []
  }
 ],
 "metadata": {
  "kernelspec": {
   "display_name": "pcross",
   "language": "python",
   "name": "pcross"
  },
  "language_info": {
   "codemirror_mode": {
    "name": "ipython",
    "version": 3
   },
   "file_extension": ".py",
   "mimetype": "text/x-python",
   "name": "python",
   "nbconvert_exporter": "python",
   "pygments_lexer": "ipython3",
   "version": "3.11.9"
  }
 },
 "nbformat": 4,
 "nbformat_minor": 2
}
