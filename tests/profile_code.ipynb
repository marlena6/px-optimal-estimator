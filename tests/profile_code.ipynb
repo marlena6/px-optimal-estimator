{
 "cells": [
  {
   "cell_type": "code",
   "execution_count": 1,
   "metadata": {},
   "outputs": [],
   "source": [
    "import numpy as np\n",
    "import sys\n",
    "sys.path.append('..')\n",
    "import matplotlib.pyplot as plt\n",
    "%load_ext autoreload\n",
    "%autoreload 2\n",
    "import estimator as est\n",
    "rng = np.random.default_rng(seed=315)\n",
    "import cProfile\n",
    "import re\n"
   ]
  },
  {
   "cell_type": "code",
   "execution_count": 2,
   "metadata": {},
   "outputs": [],
   "source": [
    "# set sim_name\n",
    "sim_name='sim_pair_30' # other version will be 'diffSeed'\n",
    "sim_dir='central'\n",
    "snap_num = 6\n",
    "# set phase\n",
    "phase = \"sim_minus\"\n",
    "# set axis number\n",
    "axis = 1"
   ]
  },
  {
   "cell_type": "code",
   "execution_count": 3,
   "metadata": {},
   "outputs": [
    {
     "name": "stdout",
     "output_type": "stream",
     "text": [
      "pixel spacing is 0.05 Mpc\n"
     ]
    }
   ],
   "source": [
    "# load the skewers x \n",
    "meas_path = \"/Users/mlokken/research/lyman_alpha/data/\"\n",
    "delta_x = np.load(meas_path+\"snap_{:d}/delta_x/skewers_6_psim_minus_ax1_Ns768_wM0.05_sT1.0_sg1.0.npz\".format(snap_num))\n",
    "delta_flux_x = delta_x['delta_flux_x'] # these are already normalized\n",
    "Np = delta_flux_x.shape[1]\n",
    "L = delta_x['L_Mpc']\n",
    "pix_spacing = L/Np\n",
    "print(\"pixel spacing is\", pix_spacing, \"Mpc\")\n",
    "# xpar = delta_x['xpar'] # this is still wrong for some reason, redefined below\n",
    "delta_x.close()\n",
    "xpar = np.arange(0, L, pix_spacing)+pix_spacing/2.\n",
    "\n"
   ]
  },
  {
   "cell_type": "code",
   "execution_count": 4,
   "metadata": {},
   "outputs": [
    {
     "name": "stdout",
     "output_type": "stream",
     "text": [
      "Box is 67.5 Mpc per side with 768 skewers per side\n",
      "Spacing between pixels along line-of-sight = 0.05 Mpc\n",
      "Number of bins: 135\n"
     ]
    },
    {
     "name": "stdout",
     "output_type": "stream",
     "text": [
      "Spacing between pixels along line-of-sight after binning = 0.49999999999999994 Mpc\n",
      "spacing between neighboring skewers is 0.09 Mpc\n"
     ]
    }
   ],
   "source": [
    "nskew = delta_flux_x.shape[0]\n",
    "nside = np.sqrt(nskew).astype(int)\n",
    "print(f\"Box is {L} Mpc per side with {nside} skewers per side\")\n",
    "print(f\"Spacing between pixels along line-of-sight = {pix_spacing} Mpc\")\n",
    "\n",
    "# bin delta_flux along line-of-sight\n",
    "binsize = 10\n",
    "if Np%binsize != 0:\n",
    "    print(\"Np is not divisible by binsize\")\n",
    "    sys.exit()\n",
    "delta_flux_b, xpar_b = est.bin_spectra(delta_flux_x, xpar, binsize)\n",
    "Np_b=delta_flux_b.shape[1]\n",
    "pix_spacing_b = xpar_b[1]-xpar_b[0]\n",
    "print(f\"Spacing between pixels along line-of-sight after binning = {pix_spacing_b} Mpc\")\n",
    "delta_flux_k = np.fft.rfft(delta_flux_b)*np.sqrt(pix_spacing_b/Np_b)\n",
    "Nk = delta_flux_k.shape[1]\n",
    "# get the positions\n",
    "xpos = np.linspace(0,L,nside)\n",
    "ypos = np.linspace(0,L,nside)\n",
    "print(\"spacing between neighboring skewers is {:.2f} Mpc\".format(xpos[1]-xpos[0]))\n",
    "positions = np.array([[x,y] for x in xpos for y in ypos])\n",
    "subsel=True\n",
    "nsub=100\n",
    "if subsel:\n",
    "    randoms = rng.choice(len(positions), size=nsub)\n",
    "    sel = np.zeros(len(positions), dtype=bool)\n",
    "    sel[randoms] = True\n",
    "else:\n",
    "    sel = np.ones(len(positions), dtype=bool)\n",
    "positions_sel = np.copy(positions)\n",
    "positions_sel[~sel] = np.nan\n",
    "delta_flux_x[~sel] = np.nan\n",
    "delta_flux_b[~sel] = np.nan\n",
    "delta_flux_k[~sel] = np.nan\n",
    "\n",
    "# make masked arrays\n",
    "delta_flux_x = np.ma.masked_invalid(delta_flux_x)\n",
    "delta_flux_b = np.ma.masked_invalid(delta_flux_b)\n",
    "delta_flux_k = np.ma.masked_invalid(delta_flux_k)\n",
    "positions_sel = np.ma.masked_invalid(positions_sel)\n",
    "\n",
    "# reshape into a grid\n",
    "delta_flux_x_grid = np.reshape(delta_flux_x, (int(nside), int(nside), Np))\n",
    "delta_flux_b_grid = np.reshape(delta_flux_b, (int(nside), int(nside), Np_b))\n",
    "delta_flux_k_grid = np.reshape(delta_flux_k, (int(nside), int(nside), Nk))\n",
    "position_grid = np.reshape(positions_sel, (int(nside), int(nside), 2))\n",
    "\n",
    "delta_x_matrix_binned = est.make_delta_x_matrix(L, Np_b, xpar_b)"
   ]
  },
  {
   "cell_type": "code",
   "execution_count": 5,
   "metadata": {},
   "outputs": [],
   "source": [
    "# get the kpar that will correspond to the xpar\n",
    "kpar_b = np.fft.rfftfreq(Np_b, pix_spacing_b)*2*np.pi # frequency in Mpc^-1\n",
    "kpar   = np.fft.rfftfreq(Np, pix_spacing)*2*np.pi # frequency in Mpc^-1\n",
    "kbin_est = [[kp-(kpar_b[1]-kpar_b[0])/2, kp+(kpar_b[1]-kpar_b[0])/2] for kp in kpar_b]"
   ]
  },
  {
   "cell_type": "code",
   "execution_count": 6,
   "metadata": {},
   "outputs": [
    {
     "name": "stdout",
     "output_type": "stream",
     "text": [
      "Starting P1D.\n",
      "center of kbins:  [0.0, 0.09308422677303092, 0.18616845354606185, 0.2792526803190928, 0.3723369070921237, 0.4654211338651546, 0.5585053606381856, 0.6515895874112164, 0.7446738141842474, 0.8377580409572783, 0.9308422677303092, 1.0239264945033402, 1.1170107212763711, 1.2100949480494019, 1.3031791748224328, 1.3962634015954638, 1.4893476283684948, 1.5824318551415255, 1.6755160819145567, 1.7686003086875874, 1.8616845354606184, 1.9547687622336496, 2.0478529890066803, 2.140937215779711, 2.2340214425527423, 2.327105669325773, 2.4201898960988038, 2.513274122871835, 2.6063583496448657, 2.699442576417897, 2.7925268031909276, 2.8856110299639584, 2.9786952567369895, 3.0717794835100207, 3.164863710283051, 3.257947937056082, 3.3510321638291134, 3.444116390602144, 3.537200617375175, 3.6302848441482056, 3.723369070921237, 3.816453297694268, 3.9095375244672987, 4.00262175124033, 4.095705978013361, 4.188790204786391, 4.281874431559422, 4.374958658332454, 4.4680428851054845, 4.561127111878515, 4.654211338651546, 4.747295565424577, 4.8403797921976075, 4.933464018970639, 5.02654824574367, 5.119632472516701, 5.212716699289731, 5.305800926062762, 5.398885152835794, 5.4919693796088245, 5.585053606381855, 5.678137833154887, 5.771222059927917, 5.864306286700948, 5.957390513473979, 6.05047474024701, 6.1435589670200415, 6.236643193793071]\n",
      "Getting derivative matrices.\n",
      "Starting loop through data.\n"
     ]
    },
    {
     "ename": "KeyboardInterrupt",
     "evalue": "",
     "output_type": "error",
     "traceback": [
      "\u001b[0;31m---------------------------------------------------------------------------\u001b[0m",
      "\u001b[0;31mKeyboardInterrupt\u001b[0m                         Traceback (most recent call last)",
      "\u001b[1;32m/Users/mlokken/research/lyman_alpha/optimal_estimator/tests/profile_code.ipynb Cell 6\u001b[0m line \u001b[0;36m1\n\u001b[0;32m----> <a href='vscode-notebook-cell:/Users/mlokken/research/lyman_alpha/optimal_estimator/tests/profile_code.ipynb#W5sZmlsZQ%3D%3D?line=0'>1</a>\u001b[0m get_ipython()\u001b[39m.\u001b[39;49mrun_cell_magic(\u001b[39m'\u001b[39;49m\u001b[39mprun\u001b[39;49m\u001b[39m'\u001b[39;49m, \u001b[39m'\u001b[39;49m\u001b[39m-s cumulative -q -l 10 -T prun0\u001b[39;49m\u001b[39m'\u001b[39;49m, \u001b[39m'\u001b[39;49m\u001b[39mkbin_centers, theta_est_p1d, F_alpha_beta_p1d, Lalpha_P1D = est.estimate_p1d(Np_b, delta_x_matrix_binned, pix_spacing_b, delta_flux_b_grid, kbin_est, np.zeros(delta_x_matrix_binned.shape), np.ones(delta_x_matrix_binned.shape))\u001b[39;49m\u001b[39m\\n\u001b[39;49;00m\u001b[39m'\u001b[39;49m)\n",
      "File \u001b[0;32m~/anaconda3/envs/pcross/lib/python3.11/site-packages/IPython/core/interactiveshell.py:2541\u001b[0m, in \u001b[0;36mInteractiveShell.run_cell_magic\u001b[0;34m(self, magic_name, line, cell)\u001b[0m\n\u001b[1;32m   2539\u001b[0m \u001b[39mwith\u001b[39;00m \u001b[39mself\u001b[39m\u001b[39m.\u001b[39mbuiltin_trap:\n\u001b[1;32m   2540\u001b[0m     args \u001b[39m=\u001b[39m (magic_arg_s, cell)\n\u001b[0;32m-> 2541\u001b[0m     result \u001b[39m=\u001b[39m fn(\u001b[39m*\u001b[39;49margs, \u001b[39m*\u001b[39;49m\u001b[39m*\u001b[39;49mkwargs)\n\u001b[1;32m   2543\u001b[0m \u001b[39m# The code below prevents the output from being displayed\u001b[39;00m\n\u001b[1;32m   2544\u001b[0m \u001b[39m# when using magics with decorator @output_can_be_silenced\u001b[39;00m\n\u001b[1;32m   2545\u001b[0m \u001b[39m# when the last Python token in the expression is a ';'.\u001b[39;00m\n\u001b[1;32m   2546\u001b[0m \u001b[39mif\u001b[39;00m \u001b[39mgetattr\u001b[39m(fn, magic\u001b[39m.\u001b[39mMAGIC_OUTPUT_CAN_BE_SILENCED, \u001b[39mFalse\u001b[39;00m):\n",
      "File \u001b[0;32m~/anaconda3/envs/pcross/lib/python3.11/site-packages/IPython/core/magics/execution.py:313\u001b[0m, in \u001b[0;36mExecutionMagics.prun\u001b[0;34m(self, parameter_s, cell)\u001b[0m\n\u001b[1;32m    311\u001b[0m     arg_str \u001b[39m+\u001b[39m\u001b[39m=\u001b[39m \u001b[39m'\u001b[39m\u001b[39m\\n\u001b[39;00m\u001b[39m'\u001b[39m \u001b[39m+\u001b[39m cell\n\u001b[1;32m    312\u001b[0m arg_str \u001b[39m=\u001b[39m \u001b[39mself\u001b[39m\u001b[39m.\u001b[39mshell\u001b[39m.\u001b[39mtransform_cell(arg_str)\n\u001b[0;32m--> 313\u001b[0m \u001b[39mreturn\u001b[39;00m \u001b[39mself\u001b[39;49m\u001b[39m.\u001b[39;49m_run_with_profiler(arg_str, opts, \u001b[39mself\u001b[39;49m\u001b[39m.\u001b[39;49mshell\u001b[39m.\u001b[39;49muser_ns)\n",
      "File \u001b[0;32m~/anaconda3/envs/pcross/lib/python3.11/site-packages/IPython/core/magics/execution.py:335\u001b[0m, in \u001b[0;36mExecutionMagics._run_with_profiler\u001b[0;34m(self, code, opts, namespace)\u001b[0m\n\u001b[1;32m    333\u001b[0m prof \u001b[39m=\u001b[39m profile\u001b[39m.\u001b[39mProfile()\n\u001b[1;32m    334\u001b[0m \u001b[39mtry\u001b[39;00m:\n\u001b[0;32m--> 335\u001b[0m     prof \u001b[39m=\u001b[39m prof\u001b[39m.\u001b[39;49mrunctx(code, namespace, namespace)\n\u001b[1;32m    336\u001b[0m     sys_exit \u001b[39m=\u001b[39m \u001b[39m'\u001b[39m\u001b[39m'\u001b[39m\n\u001b[1;32m    337\u001b[0m \u001b[39mexcept\u001b[39;00m \u001b[39mSystemExit\u001b[39;00m:\n",
      "File \u001b[0;32m~/anaconda3/envs/pcross/lib/python3.11/cProfile.py:101\u001b[0m, in \u001b[0;36mProfile.runctx\u001b[0;34m(self, cmd, globals, locals)\u001b[0m\n\u001b[1;32m     99\u001b[0m \u001b[39mself\u001b[39m\u001b[39m.\u001b[39menable()\n\u001b[1;32m    100\u001b[0m \u001b[39mtry\u001b[39;00m:\n\u001b[0;32m--> 101\u001b[0m     exec(cmd, \u001b[39mglobals\u001b[39;49m, \u001b[39mlocals\u001b[39;49m)\n\u001b[1;32m    102\u001b[0m \u001b[39mfinally\u001b[39;00m:\n\u001b[1;32m    103\u001b[0m     \u001b[39mself\u001b[39m\u001b[39m.\u001b[39mdisable()\n",
      "File \u001b[0;32m<string>:1\u001b[0m\n",
      "File \u001b[0;32m~/research/lyman_alpha/optimal_estimator/tests/../estimator.py:353\u001b[0m, in \u001b[0;36mestimate_p1d\u001b[0;34m(Np, delta_x_matrix, pix_spacing, delta_flux, kbin_est, S_fiducial, C_0_invmat, approx_fisher, return_times)\u001b[0m\n\u001b[1;32m    351\u001b[0m             \u001b[39mif\u001b[39;00m condition:\n\u001b[1;32m    352\u001b[0m                 Q_beta \u001b[39m=\u001b[39m Cij_alpha_k[kbeta]\n\u001b[0;32m--> 353\u001b[0m                 F_alpha_beta[kalpha,kbeta] \u001b[39m+\u001b[39m\u001b[39m=\u001b[39m \u001b[39m0.5\u001b[39m\u001b[39m*\u001b[39mnp\u001b[39m.\u001b[39mtrace(np\u001b[39m.\u001b[39;49mmatmul(CQC_alpha, Q_beta))\n\u001b[1;32m    354\u001b[0m end \u001b[39m=\u001b[39m time\u001b[39m.\u001b[39mtime()\n\u001b[1;32m    355\u001b[0m times\u001b[39m.\u001b[39mappend(end\u001b[39m-\u001b[39mstart)\n",
      "\u001b[0;31mKeyboardInterrupt\u001b[0m: "
     ]
    }
   ],
   "source": [
    "%%prun -s cumulative -q -l 10 -T prun0\n",
    "kbin_centers, theta_est_p1d, F_alpha_beta_p1d, Lalpha_P1D = est.estimate_p1d(Np_b, delta_x_matrix_binned, pix_spacing_b, delta_flux_b_grid, kbin_est, np.zeros(delta_x_matrix_binned.shape), np.ones(delta_x_matrix_binned.shape))"
   ]
  },
  {
   "cell_type": "code",
   "execution_count": null,
   "metadata": {},
   "outputs": [],
   "source": [
    "pk_avg = np.ma.mean((delta_flux_k.__abs__())**2, axis=0)\n"
   ]
  },
  {
   "cell_type": "code",
   "execution_count": null,
   "metadata": {},
   "outputs": [],
   "source": [
    "plt.plot(kpar_b, pk_avg)\n",
    "plt.plot(kbin_centers, theta_est_p1d)"
   ]
  },
  {
   "cell_type": "code",
   "execution_count": 24,
   "metadata": {},
   "outputs": [
    {
     "name": "stdout",
     "output_type": "stream",
     "text": [
      "         4097680374 function calls (4097680170 primitive calls) in 1368.842 seconds\n",
      "\n",
      "   Ordered by: cumulative time\n",
      "   List reduced from 174 to 10 due to restriction <10>\n",
      "\n",
      "   ncalls  tottime  percall  cumtime  percall filename:lineno(function)\n",
      "        1    0.000    0.000 1368.842 1368.842 {built-in method builtins.exec}\n",
      "        1    0.001    0.001 1368.841 1368.841 <string>:1(<module>)\n",
      "        1  198.100  198.100 1368.841 1368.841 estimator.py:314(estimate_p1d)\n",
      " 80216064  170.241    0.000 1058.138    0.000 core.py:3205(__getitem__)\n",
      "160520528  347.448    0.000  514.782    0.000 core.py:2940(_update_from)\n",
      "160486528   38.954    0.000  485.709    0.000 {function MaskedArray.view at 0x10b472c00}\n",
      " 80263664  102.436    0.000  446.832    0.000 core.py:2966(__array_finalize__)\n",
      " 40108032   18.817    0.000  105.391    0.000 core.py:6654(is_masked)\n",
      "1324469457   87.786    0.000   87.791    0.000 {built-in method builtins.getattr}\n",
      " 40135232   11.903    0.000   75.827    0.000 {method 'any' of 'numpy.ndarray' objects}\n"
     ]
    }
   ],
   "source": [
    "print(open('prun0', 'r').read())\n"
   ]
  },
  {
   "cell_type": "code",
   "execution_count": null,
   "metadata": {},
   "outputs": [],
   "source": []
  }
 ],
 "metadata": {
  "kernelspec": {
   "display_name": "pcross",
   "language": "python",
   "name": "pcross"
  },
  "language_info": {
   "codemirror_mode": {
    "name": "ipython",
    "version": 3
   },
   "file_extension": ".py",
   "mimetype": "text/x-python",
   "name": "python",
   "nbconvert_exporter": "python",
   "pygments_lexer": "ipython3",
   "version": "3.11.9"
  }
 },
 "nbformat": 4,
 "nbformat_minor": 2
}
