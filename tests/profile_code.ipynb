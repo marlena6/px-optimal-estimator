{
 "cells": [
  {
   "cell_type": "code",
   "execution_count": 16,
   "metadata": {},
   "outputs": [
    {
     "name": "stdout",
     "output_type": "stream",
     "text": [
      "The autoreload extension is already loaded. To reload it, use:\n",
      "  %reload_ext autoreload\n"
     ]
    }
   ],
   "source": [
    "import numpy as np\n",
    "import sys\n",
    "sys.path.append('..')\n",
    "import matplotlib.pyplot as plt\n",
    "%load_ext autoreload\n",
    "%autoreload 2\n",
    "import estimator as est\n",
    "rng = np.random.default_rng(seed=315)\n",
    "import cProfile\n",
    "import re\n"
   ]
  },
  {
   "cell_type": "code",
   "execution_count": 2,
   "metadata": {},
   "outputs": [],
   "source": [
    "# set sim_name\n",
    "sim_name='sim_pair_30' # other version will be 'diffSeed'\n",
    "sim_dir='central'\n",
    "snap_num = 6\n",
    "# set phase\n",
    "phase = \"sim_minus\"\n",
    "# set axis number\n",
    "axis = 1"
   ]
  },
  {
   "cell_type": "code",
   "execution_count": 15,
   "metadata": {},
   "outputs": [
    {
     "name": "stdout",
     "output_type": "stream",
     "text": [
      "pixel spacing is 0.05 Mpc\n"
     ]
    }
   ],
   "source": [
    "# load the skewers x \n",
    "meas_path = \"/Users/mlokken/research/lyman_alpha/data/\"\n",
    "delta_x = np.load(meas_path+\"snap_{:d}/delta_x/skewers_6_psim_minus_ax1_Ns768_wM0.05_sT1.0_sg1.0.npz\".format(snap_num))\n",
    "delta_flux_x = delta_x['delta_flux_x'] # these are already normalized\n",
    "Np = delta_flux_x.shape[1]\n",
    "L = delta_x['L_Mpc']\n",
    "pix_spacing = L/Np\n",
    "print(\"pixel spacing is\", pix_spacing, \"Mpc\")\n",
    "# xpar = delta_x['xpar'] # this is still wrong for some reason, redefined below\n",
    "delta_x.close()\n",
    "xpar = np.arange(0, L, pix_spacing)+pix_spacing/2.\n",
    "\n"
   ]
  },
  {
   "cell_type": "code",
   "execution_count": 17,
   "metadata": {},
   "outputs": [
    {
     "name": "stdout",
     "output_type": "stream",
     "text": [
      "Box is 67.5 Mpc per side with 768 skewers per side\n",
      "Spacing between pixels along line-of-sight = 0.05 Mpc\n",
      "Number of bins: 135\n",
      "Spacing between pixels along line-of-sight after binning = 0.49999999999999994 Mpc\n",
      "spacing between neighboring skewers is 0.09 Mpc\n"
     ]
    }
   ],
   "source": [
    "nskew = delta_flux_x.shape[0]\n",
    "nside = np.sqrt(nskew).astype(int)\n",
    "print(f\"Box is {L} Mpc per side with {nside} skewers per side\")\n",
    "print(f\"Spacing between pixels along line-of-sight = {pix_spacing} Mpc\")\n",
    "\n",
    "# bin delta_flux along line-of-sight\n",
    "binsize = 10\n",
    "if Np%binsize != 0:\n",
    "    print(\"Np is not divisible by binsize\")\n",
    "    sys.exit()\n",
    "delta_flux_b, xpar_b = est.bin_spectra(delta_flux_x, xpar, binsize)\n",
    "Np_b=delta_flux_b.shape[1]\n",
    "pix_spacing_b = xpar_b[1]-xpar_b[0]\n",
    "print(f\"Spacing between pixels along line-of-sight after binning = {pix_spacing_b} Mpc\")\n",
    "delta_flux_k = np.fft.rfft(delta_flux_b)*np.sqrt(pix_spacing_b/Np_b)\n",
    "Nk = delta_flux_k.shape[1]\n",
    "# get the positions\n",
    "xpos = np.linspace(0,L,nside)\n",
    "ypos = np.linspace(0,L,nside)\n",
    "print(\"spacing between neighboring skewers is {:.2f} Mpc\".format(xpos[1]-xpos[0]))\n",
    "positions = np.array([[x,y] for x in xpos for y in ypos])\n",
    "subsel=True\n",
    "nsub=100\n",
    "if subsel:\n",
    "    randoms = rng.choice(len(positions), size=nsub)\n",
    "    sel = np.zeros(len(positions), dtype=bool)\n",
    "    sel[randoms] = True\n",
    "else:\n",
    "    sel = np.ones(len(positions), dtype=bool)\n",
    "positions_sel = np.copy(positions)\n",
    "positions_sel[~sel] = np.nan\n",
    "delta_flux_x[~sel] = np.nan\n",
    "delta_flux_b[~sel] = np.nan\n",
    "delta_flux_k[~sel] = np.nan\n",
    "\n",
    "# make masked arrays\n",
    "delta_flux_x = np.ma.masked_invalid(delta_flux_x)\n",
    "delta_flux_b = np.ma.masked_invalid(delta_flux_b)\n",
    "delta_flux_k = np.ma.masked_invalid(delta_flux_k)\n",
    "positions_sel = np.ma.masked_invalid(positions_sel)\n",
    "\n",
    "# reshape into a grid\n",
    "delta_flux_x_grid = np.reshape(delta_flux_x, (int(nside), int(nside), Np))\n",
    "delta_flux_b_grid = np.reshape(delta_flux_b, (int(nside), int(nside), Np_b))\n",
    "delta_flux_k_grid = np.reshape(delta_flux_k, (int(nside), int(nside), Nk))\n",
    "position_grid = np.reshape(positions_sel, (int(nside), int(nside), 2))\n",
    "\n",
    "delta_x_matrix_binned = est.make_delta_x_matrix(L, Np_b, xpar_b)"
   ]
  },
  {
   "cell_type": "code",
   "execution_count": 18,
   "metadata": {},
   "outputs": [],
   "source": [
    "# get the kpar that will correspond to the xpar\n",
    "kpar_b = np.fft.rfftfreq(Np_b, pix_spacing_b)*2*np.pi # frequency in Mpc^-1\n",
    "kpar   = np.fft.rfftfreq(Np, pix_spacing)*2*np.pi # frequency in Mpc^-1\n",
    "kbin_est = [[kp-(kpar_b[1]-kpar_b[0])/2, kp+(kpar_b[1]-kpar_b[0])/2] for kp in kpar_b]\n"
   ]
  },
  {
   "cell_type": "code",
   "execution_count": 23,
   "metadata": {},
   "outputs": [
    {
     "name": "stdout",
     "output_type": "stream",
     "text": [
      "Starting P1D.\n",
      "center of kbins:  [0.0, 0.09308422677303092, 0.18616845354606185, 0.2792526803190928, 0.3723369070921237, 0.4654211338651546, 0.5585053606381856, 0.6515895874112164, 0.7446738141842474, 0.8377580409572783, 0.9308422677303092, 1.0239264945033402, 1.1170107212763711, 1.2100949480494019, 1.3031791748224328, 1.3962634015954638, 1.4893476283684948, 1.5824318551415255, 1.6755160819145567, 1.7686003086875874, 1.8616845354606184, 1.9547687622336496, 2.0478529890066803, 2.140937215779711, 2.2340214425527423, 2.327105669325773, 2.4201898960988038, 2.513274122871835, 2.6063583496448657, 2.699442576417897, 2.7925268031909276, 2.8856110299639584, 2.9786952567369895, 3.0717794835100207, 3.164863710283051, 3.257947937056082, 3.3510321638291134, 3.444116390602144, 3.537200617375175, 3.6302848441482056, 3.723369070921237, 3.816453297694268, 3.9095375244672987, 4.00262175124033, 4.095705978013361, 4.188790204786391, 4.281874431559422, 4.374958658332454, 4.4680428851054845, 4.561127111878515, 4.654211338651546, 4.747295565424577, 4.8403797921976075, 4.933464018970639, 5.02654824574367, 5.119632472516701, 5.212716699289731, 5.305800926062762, 5.398885152835794, 5.4919693796088245, 5.585053606381855, 5.678137833154887, 5.771222059927917, 5.864306286700948, 5.957390513473979, 6.05047474024701, 6.1435589670200415, 6.236643193793071]\n",
      "Getting derivative matrices.\n",
      "Starting loop through data.\n",
      "This k took 18.59919500350952 seconds\n",
      "This k took 20.515081882476807 seconds\n",
      "This k took 21.30667018890381 seconds\n",
      "This k took 18.010603189468384 seconds\n",
      "This k took 18.70371985435486 seconds\n",
      "This k took 19.344157934188843 seconds\n",
      "This k took 19.44736886024475 seconds\n",
      "This k took 21.716769218444824 seconds\n",
      "This k took 22.23252820968628 seconds\n",
      "This k took 22.79697608947754 seconds\n",
      "This k took 21.6090669631958 seconds\n",
      "This k took 21.632203102111816 seconds\n",
      "This k took 20.34436869621277 seconds\n",
      "This k took 19.535104036331177 seconds\n",
      "This k took 20.39969825744629 seconds\n",
      "This k took 19.758184909820557 seconds\n",
      "This k took 20.01423692703247 seconds\n",
      "This k took 19.63926911354065 seconds\n",
      "This k took 20.14988923072815 seconds\n",
      "This k took 19.854883193969727 seconds\n",
      "This k took 19.523891925811768 seconds\n",
      "This k took 20.97050189971924 seconds\n",
      "This k took 19.787809133529663 seconds\n",
      "This k took 20.862095832824707 seconds\n",
      "This k took 21.38688015937805 seconds\n",
      "This k took 19.69401788711548 seconds\n",
      "This k took 20.000230073928833 seconds\n",
      "This k took 19.7772159576416 seconds\n",
      "This k took 19.690932035446167 seconds\n",
      "This k took 19.58030605316162 seconds\n",
      "This k took 19.796018838882446 seconds\n",
      "This k took 19.81815218925476 seconds\n",
      "This k took 20.283174991607666 seconds\n",
      "This k took 20.15340805053711 seconds\n",
      "This k took 19.55782985687256 seconds\n",
      "This k took 19.57758593559265 seconds\n",
      "This k took 19.84745717048645 seconds\n",
      "This k took 19.490533113479614 seconds\n",
      "This k took 20.188370943069458 seconds\n",
      "This k took 20.358588933944702 seconds\n",
      "This k took 20.37251091003418 seconds\n",
      "This k took 20.461578845977783 seconds\n",
      "This k took 19.390371084213257 seconds\n",
      "This k took 19.34734296798706 seconds\n",
      "This k took 19.91233515739441 seconds\n",
      "This k took 19.784048080444336 seconds\n",
      "This k took 20.019459009170532 seconds\n",
      "This k took 19.818962812423706 seconds\n",
      "This k took 20.551113843917847 seconds\n",
      "This k took 20.63081121444702 seconds\n",
      "This k took 22.11474108695984 seconds\n",
      "This k took 22.361574172973633 seconds\n",
      "This k took 20.077481985092163 seconds\n",
      "This k took 21.035642862319946 seconds\n",
      "This k took 19.811011791229248 seconds\n",
      "This k took 19.458819150924683 seconds\n",
      "This k took 19.80815887451172 seconds\n",
      "This k took 19.868247985839844 seconds\n",
      "This k took 19.727213144302368 seconds\n",
      "This k took 19.370127201080322 seconds\n",
      "This k took 19.673134088516235 seconds\n",
      "This k took 19.876380920410156 seconds\n",
      "This k took 20.094894886016846 seconds\n",
      "This k took 19.423675060272217 seconds\n",
      "This k took 19.451805114746094 seconds\n",
      "This k took 19.452520847320557 seconds\n",
      "This k took 19.818709135055542 seconds\n",
      "This k took 19.96180510520935 seconds\n",
      " \n",
      "*** Profile printout saved to text file 'prun0'.\n"
     ]
    }
   ],
   "source": [
    "%%prun -s cumulative -q -l 10 -T prun0\n",
    "kbin_centers, theta_est_p1d, F_alpha_beta_p1d, Lalpha_P1D = est.estimate_p1d(Np_b, delta_x_matrix_binned, pix_spacing_b, delta_flux_b_grid, kbin_est, np.zeros(delta_x_matrix_binned.shape), np.ones(delta_x_matrix_binned.shape))\n"
   ]
  },
  {
   "cell_type": "code",
   "execution_count": null,
   "metadata": {},
   "outputs": [],
   "source": [
    "pk_avg = np.ma.mean((delta_flux_k.__abs__())**2, axis=0)\n"
   ]
  },
  {
   "cell_type": "code",
   "execution_count": null,
   "metadata": {},
   "outputs": [],
   "source": [
    "plt.plot(kpar_b, pk_avg)\n",
    "plt.plot(kbin_centers, theta_est_p1d)"
   ]
  },
  {
   "cell_type": "code",
   "execution_count": 24,
   "metadata": {},
   "outputs": [
    {
     "name": "stdout",
     "output_type": "stream",
     "text": [
      "         4097680374 function calls (4097680170 primitive calls) in 1368.842 seconds\n",
      "\n",
      "   Ordered by: cumulative time\n",
      "   List reduced from 174 to 10 due to restriction <10>\n",
      "\n",
      "   ncalls  tottime  percall  cumtime  percall filename:lineno(function)\n",
      "        1    0.000    0.000 1368.842 1368.842 {built-in method builtins.exec}\n",
      "        1    0.001    0.001 1368.841 1368.841 <string>:1(<module>)\n",
      "        1  198.100  198.100 1368.841 1368.841 estimator.py:314(estimate_p1d)\n",
      " 80216064  170.241    0.000 1058.138    0.000 core.py:3205(__getitem__)\n",
      "160520528  347.448    0.000  514.782    0.000 core.py:2940(_update_from)\n",
      "160486528   38.954    0.000  485.709    0.000 {function MaskedArray.view at 0x10b472c00}\n",
      " 80263664  102.436    0.000  446.832    0.000 core.py:2966(__array_finalize__)\n",
      " 40108032   18.817    0.000  105.391    0.000 core.py:6654(is_masked)\n",
      "1324469457   87.786    0.000   87.791    0.000 {built-in method builtins.getattr}\n",
      " 40135232   11.903    0.000   75.827    0.000 {method 'any' of 'numpy.ndarray' objects}\n"
     ]
    }
   ],
   "source": [
    "print(open('prun0', 'r').read())\n"
   ]
  },
  {
   "cell_type": "code",
   "execution_count": null,
   "metadata": {},
   "outputs": [],
   "source": []
  }
 ],
 "metadata": {
  "kernelspec": {
   "display_name": "pcross",
   "language": "python",
   "name": "python3"
  },
  "language_info": {
   "codemirror_mode": {
    "name": "ipython",
    "version": 3
   },
   "file_extension": ".py",
   "mimetype": "text/x-python",
   "name": "python",
   "nbconvert_exporter": "python",
   "pygments_lexer": "ipython3",
   "version": "3.11.9"
  }
 },
 "nbformat": 4,
 "nbformat_minor": 2
}
